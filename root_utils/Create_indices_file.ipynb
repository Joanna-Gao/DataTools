{
 "cells": [
  {
   "cell_type": "markdown",
   "id": "missing-hardware",
   "metadata": {},
   "source": [
    "# Dataset Index Generation\n",
    "Generates indices for train, validation and test sets"
   ]
  },
  {
   "cell_type": "code",
   "execution_count": 1,
   "id": "superb-conducting",
   "metadata": {
    "scrolled": true
   },
   "outputs": [],
   "source": [
    "import h5py\n",
    "# from progressbar import *\n",
    "import re\n",
    "import sys\n",
    "import numpy as np\n",
    "\n",
    "sys.path.append('../../WatChMaL_analysis/WatChMaL')\n",
    "import analysis.event_utils as ev"
   ]
  },
  {
   "cell_type": "markdown",
   "id": "heavy-poker",
   "metadata": {},
   "source": [
    "## Options"
   ]
  },
  {
   "cell_type": "code",
   "execution_count": 22,
   "id": "specific-richmond",
   "metadata": {},
   "outputs": [],
   "source": [
    "n_test_files = 100\n",
    "n_val_files = 200\n",
    "labels = [0,1]\n",
    "inverse_label_dict = {0:\"gamma\", 1:\"e-\", 2:\"mu-\", 3: \"pi0\"}"
   ]
  },
  {
   "cell_type": "markdown",
   "id": "studied-nursing",
   "metadata": {},
   "source": [
    "## Load dataset"
   ]
  },
  {
   "cell_type": "code",
   "execution_count": 23,
   "id": "convertible-wheat",
   "metadata": {},
   "outputs": [],
   "source": [
    "# data_path = \"/project/rpp-blairt2k/machine_learning/data/HKHybrid/numpy/e-mu-pi0_wo_mpmts.hdf5\"\n",
    "data_path = \"/project/rpp-blairt2k/machine_learning/data/HKHybrid/numpy/HKHybrid_e-gamma_E0to1000MeV_unif-pos-R3240-y3287cm_4pi-dir_6Mevts_w_mPMT.hdf5\"\n",
    "f = h5py.File(data_path, \"r\")"
   ]
  },
  {
   "cell_type": "code",
   "execution_count": 24,
   "id": "determined-northern",
   "metadata": {},
   "outputs": [],
   "source": [
    "positions = np.array(f['positions'])\n",
    "event_labels = np.array(f['labels'])\n",
    "root_files = np.array(f['root_files']).astype(str)"
   ]
  },
  {
   "cell_type": "code",
   "execution_count": 5,
   "id": "f2306e2d",
   "metadata": {},
   "outputs": [
    {
     "data": {
      "text/plain": [
       "array([1, 1, 1, ..., 3, 3, 3], dtype=int32)"
      ]
     },
     "execution_count": 5,
     "metadata": {},
     "output_type": "execute_result"
    }
   ],
   "source": [
    "event_labels"
   ]
  },
  {
   "cell_type": "markdown",
   "id": "right-salem",
   "metadata": {},
   "source": [
    "## Find the files of each label and indices of each file"
   ]
  },
  {
   "cell_type": "code",
   "execution_count": 15,
   "id": "narrow-courtesy",
   "metadata": {},
   "outputs": [],
   "source": [
    "def atoi(text):\n",
    "    return int(text) if text.isdigit() else text\n",
    "\n",
    "def natural_keys(text):\n",
    "    '''\n",
    "    alist.sort(key=natural_keys) sorts in human order\n",
    "    http://nedbatchelder.com/blog/200712/human_sorting.html\n",
    "    (See Toothy's implementation in the comments)\n",
    "    '''\n",
    "    return [ atoi(c) for c in re.split(r'(\\d+)', text) ]"
   ]
  },
  {
   "cell_type": "code",
   "execution_count": 25,
   "id": "color-frequency",
   "metadata": {},
   "outputs": [],
   "source": [
    "files_in_labels = {l: sorted(set(root_files[event_labels==l]), key=natural_keys) for l in labels}\n",
    "idxs_in_files = {f: range(i, i+c) for f,i,c in zip(*np.unique(root_files, return_index=True, return_counts=True))}"
   ]
  },
  {
   "cell_type": "code",
   "execution_count": 26,
   "id": "educated-brazil",
   "metadata": {
    "scrolled": false
   },
   "outputs": [
    {
     "name": "stdout",
     "output_type": "stream",
     "text": [
      "label 0 has 1000 files and  3000000 indices\n",
      "label 1 has 1000 files and  3000000 indices\n"
     ]
    }
   ],
   "source": [
    "for l, f in files_in_labels.items():\n",
    "    print(\"label\", l,\"has\", len(f),\"files and \", sum([len(idxs_in_files[i]) for i in f]), \"indices\")"
   ]
  },
  {
   "cell_type": "markdown",
   "id": "different-spine",
   "metadata": {},
   "source": [
    "## Create the splits"
   ]
  },
  {
   "cell_type": "code",
   "execution_count": 27,
   "id": "pursuant-desert",
   "metadata": {
    "scrolled": true
   },
   "outputs": [],
   "source": [
    "split_files = {\"test_idxs\":  [f for l in labels for f in files_in_labels[l][:n_test_files]],\n",
    "               \"val_idxs\":   [f for l in labels for f in files_in_labels[l][n_test_files:n_test_files+n_val_files]],\n",
    "               \"train_idxs\": [f for l in labels for f in files_in_labels[l][n_test_files+n_val_files:]]}\n",
    "split_idxs = {k: [i for f in v for i in idxs_in_files[f]] for k, v in split_files.items()}"
   ]
  },
  {
   "cell_type": "code",
   "execution_count": 28,
   "id": "novel-settlement",
   "metadata": {},
   "outputs": [
    {
     "name": "stdout",
     "output_type": "stream",
     "text": [
      "test_idxs has 200 files and 600000 indices\n",
      "val_idxs has 400 files and 1200000 indices\n",
      "train_idxs has 1400 files and 4200000 indices\n"
     ]
    }
   ],
   "source": [
    "for s in split_files.keys():\n",
    "    print(s,\"has\", len(split_files[s]),\"files and\", len(split_idxs[s]),\"indices\")"
   ]
  },
  {
   "cell_type": "code",
   "execution_count": 29,
   "id": "oriental-faith",
   "metadata": {},
   "outputs": [
    {
     "name": "stdout",
     "output_type": "stream",
     "text": [
      "6000000\n",
      "6000000\n",
      "6000000\n"
     ]
    }
   ],
   "source": [
    "# Verify that all events are uniquely accounted for\n",
    "all_indices = np.concatenate(list(split_idxs.values()))\n",
    "print(len(event_labels))\n",
    "print(len(all_indices))\n",
    "print(len(set(all_indices)))"
   ]
  },
  {
   "cell_type": "markdown",
   "id": "9a601ec9",
   "metadata": {
    "scrolled": true
   },
   "source": [
    "## If you want to do FV cuts, run the following block of code, otherwise, go straight to Save File"
   ]
  },
  {
   "cell_type": "code",
   "execution_count": 23,
   "id": "dcdbc782",
   "metadata": {
    "scrolled": true
   },
   "outputs": [],
   "source": [
    "# h5_positions = np.array(f['positions'])\n",
    "dwall = ev.dwall(positions[split_idxs['test_idxs']], tank_half_height=3287, tank_radius=3240, tank_axis=2)\n",
    "dwall_cut = dwall > 200."
   ]
  },
  {
   "cell_type": "code",
   "execution_count": 24,
   "id": "66470c92",
   "metadata": {},
   "outputs": [],
   "source": [
    "one_particle_test_event_no = int(len(split_idxs['test_idxs'])/2)\n",
    "first_particle_after_FVcut_no = len(np.where(dwall_cut[:one_particle_test_event_no]== True)[0])\n",
    "fv_2m_cut = {}\n",
    "fv_2m_cut[inverse_label_dict[labels[0]]] = np.where(dwall_cut== True)[0][:first_particle_after_FVcut_no]\n",
    "fv_2m_cut[inverse_label_dict[labels[1]]] = np.where(dwall_cut== True)[0][first_particle_after_FVcut_no:]\n",
    "np.save('/project/rpp-blairt2k/machine_learning/data/HKHybrid/numpy/e-pi0_w_mpmts_fv_2m.npy', fv_2m_cut)"
   ]
  },
  {
   "cell_type": "markdown",
   "id": "natural-google",
   "metadata": {},
   "source": [
    "## Save file"
   ]
  },
  {
   "cell_type": "code",
   "execution_count": 30,
   "id": "statutory-force",
   "metadata": {},
   "outputs": [],
   "source": [
    "np.savez('/project/rpp-blairt2k/machine_learning/data/HKHybrid/numpy/gammae-_wo_mpmts_idxs_712ttv.npz', **split_idxs)"
   ]
  },
  {
   "cell_type": "code",
   "execution_count": null,
   "id": "martial-banana",
   "metadata": {},
   "outputs": [],
   "source": []
  }
 ],
 "metadata": {
  "kernelspec": {
   "display_name": "Python 3 (ipykernel)",
   "language": "python",
   "name": "python3"
  },
  "language_info": {
   "codemirror_mode": {
    "name": "ipython",
    "version": 3
   },
   "file_extension": ".py",
   "mimetype": "text/x-python",
   "name": "python",
   "nbconvert_exporter": "python",
   "pygments_lexer": "ipython3",
   "version": "3.8.10"
  }
 },
 "nbformat": 4,
 "nbformat_minor": 5
}
