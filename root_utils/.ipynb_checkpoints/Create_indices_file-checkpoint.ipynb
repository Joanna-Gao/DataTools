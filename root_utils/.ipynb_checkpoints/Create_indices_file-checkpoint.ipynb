{
 "cells": [
  {
   "cell_type": "markdown",
   "id": "missing-hardware",
   "metadata": {},
   "source": [
    "# Dataset Index Generation\n",
    "Generates indices for train, validation and test sets"
   ]
  },
  {
   "cell_type": "code",
   "execution_count": 1,
   "id": "superb-conducting",
   "metadata": {
    "scrolled": true
   },
   "outputs": [],
   "source": [
    "import h5py\n",
    "from progressbar import *\n",
    "import re\n",
    "import numpy as np"
   ]
  },
  {
   "cell_type": "markdown",
   "id": "heavy-poker",
   "metadata": {},
   "source": [
    "## Options"
   ]
  },
  {
   "cell_type": "code",
   "execution_count": 2,
   "id": "specific-richmond",
   "metadata": {},
   "outputs": [],
   "source": [
    "n_test_files = 400\n",
    "n_val_files = 100\n",
    "labels = (1, 2, 3)"
   ]
  },
  {
   "cell_type": "markdown",
   "id": "studied-nursing",
   "metadata": {},
   "source": [
    "## Load dataset"
   ]
  },
  {
   "cell_type": "code",
   "execution_count": 3,
   "id": "convertible-wheat",
   "metadata": {},
   "outputs": [],
   "source": [
    "data_path = \"/scratch/jgao/data/HKHybrid/all.hdf5\"\n",
    "f = h5py.File(data_path, \"r\")"
   ]
  },
  {
   "cell_type": "code",
   "execution_count": 4,
   "id": "determined-northern",
   "metadata": {},
   "outputs": [
    {
     "ename": "MemoryError",
     "evalue": "Unable to allocate 6.03 GiB for an array with shape (9000000,) and data type <U180",
     "output_type": "error",
     "traceback": [
      "\u001b[0;31m---------------------------------------------------------------------------\u001b[0m",
      "\u001b[0;31mMemoryError\u001b[0m                               Traceback (most recent call last)",
      "\u001b[0;32m<ipython-input-4-aba7b32d8de6>\u001b[0m in \u001b[0;36m<module>\u001b[0;34m\u001b[0m\n\u001b[1;32m      1\u001b[0m \u001b[0mevent_labels\u001b[0m \u001b[0;34m=\u001b[0m \u001b[0mnp\u001b[0m\u001b[0;34m.\u001b[0m\u001b[0marray\u001b[0m\u001b[0;34m(\u001b[0m\u001b[0mf\u001b[0m\u001b[0;34m[\u001b[0m\u001b[0;34m'labels'\u001b[0m\u001b[0;34m]\u001b[0m\u001b[0;34m)\u001b[0m\u001b[0;34m\u001b[0m\u001b[0;34m\u001b[0m\u001b[0m\n\u001b[0;32m----> 2\u001b[0;31m \u001b[0mroot_files\u001b[0m \u001b[0;34m=\u001b[0m \u001b[0mnp\u001b[0m\u001b[0;34m.\u001b[0m\u001b[0marray\u001b[0m\u001b[0;34m(\u001b[0m\u001b[0mf\u001b[0m\u001b[0;34m[\u001b[0m\u001b[0;34m'root_files'\u001b[0m\u001b[0;34m]\u001b[0m\u001b[0;34m)\u001b[0m\u001b[0;34m.\u001b[0m\u001b[0mastype\u001b[0m\u001b[0;34m(\u001b[0m\u001b[0mstr\u001b[0m\u001b[0;34m)\u001b[0m\u001b[0;34m\u001b[0m\u001b[0;34m\u001b[0m\u001b[0m\n\u001b[0m\u001b[1;32m      3\u001b[0m \u001b[0mprint\u001b[0m\u001b[0;34m(\u001b[0m\u001b[0mlen\u001b[0m\u001b[0;34m(\u001b[0m\u001b[0mevent_labels\u001b[0m\u001b[0;34m)\u001b[0m\u001b[0;34m)\u001b[0m\u001b[0;34m\u001b[0m\u001b[0;34m\u001b[0m\u001b[0m\n",
      "\u001b[0;31mMemoryError\u001b[0m: Unable to allocate 6.03 GiB for an array with shape (9000000,) and data type <U180"
     ]
    }
   ],
   "source": [
    "event_labels = np.array(f['labels'])\n",
    "root_files = np.array(f['root_files']).astype(str)\n",
    "print(len(event_labels))"
   ]
  },
  {
   "cell_type": "markdown",
   "id": "right-salem",
   "metadata": {},
   "source": [
    "## Find the files of each label and indices of each file"
   ]
  },
  {
   "cell_type": "code",
   "execution_count": null,
   "id": "narrow-courtesy",
   "metadata": {},
   "outputs": [],
   "source": [
    "def atoi(text):\n",
    "    return int(text) if text.isdigit() else text\n",
    "\n",
    "def natural_keys(text):\n",
    "    '''\n",
    "    alist.sort(key=natural_keys) sorts in human order\n",
    "    http://nedbatchelder.com/blog/200712/human_sorting.html\n",
    "    (See Toothy's implementation in the comments)\n",
    "    '''\n",
    "    return [ atoi(c) for c in re.split(r'(\\d+)', text) ]"
   ]
  },
  {
   "cell_type": "code",
   "execution_count": null,
   "id": "color-frequency",
   "metadata": {},
   "outputs": [],
   "source": [
    "files_in_labels = {l: sorted(set(root_files[event_labels==l]), key=natural_keys) for l in labels}\n",
    "idxs_in_files = {f: range(i, i+c) for f,i,c in zip(*np.unique(root_files, return_index=True, return_counts=True))}"
   ]
  },
  {
   "cell_type": "code",
   "execution_count": null,
   "id": "educated-brazil",
   "metadata": {
    "scrolled": false
   },
   "outputs": [],
   "source": [
    "for l, f in files_in_labels.items():\n",
    "    print(\"label\", l,\"has\", len(f),\"files and \", sum([len(idxs_in_files[i]) for i in f]), \"indices\")"
   ]
  },
  {
   "cell_type": "markdown",
   "id": "different-spine",
   "metadata": {},
   "source": [
    "## Create the splits"
   ]
  },
  {
   "cell_type": "code",
   "execution_count": null,
   "id": "pursuant-desert",
   "metadata": {
    "scrolled": true
   },
   "outputs": [],
   "source": [
    "split_files = {\"test_idxs\":  [f for l in labels for f in files_in_labels[l][:n_test_files]],\n",
    "               \"val_idxs\":   [f for l in labels for f in files_in_labels[l][n_test_files:n_test_files+n_val_files]],\n",
    "               \"train_idxs\": [f for l in labels for f in files_in_labels[l][n_test_files+n_val_files:]]}\n",
    "split_idxs = {k: [i for f in v for i in idxs_in_files[f]] for k, v in split_files.items()}"
   ]
  },
  {
   "cell_type": "code",
   "execution_count": null,
   "id": "novel-settlement",
   "metadata": {},
   "outputs": [],
   "source": [
    "for s in split_files.keys():\n",
    "    print(s,\"has\", len(split_files[s]),\"files and\", len(split_idxs[s]),\"indices\")"
   ]
  },
  {
   "cell_type": "code",
   "execution_count": null,
   "id": "oriental-faith",
   "metadata": {},
   "outputs": [],
   "source": [
    "# Verify that all events are uniquely accounted for\n",
    "all_indices = np.concatenate(list(split_idxs.values()))\n",
    "print(len(event_labels))\n",
    "print(len(all_indices))\n",
    "print(len(set(all_indices)))"
   ]
  },
  {
   "cell_type": "markdown",
   "id": "natural-google",
   "metadata": {},
   "source": [
    "## Save file"
   ]
  },
  {
   "cell_type": "code",
   "execution_count": null,
   "id": "statutory-force",
   "metadata": {},
   "outputs": [],
   "source": [
    "np.savez('/scratch/jgao/data/HKHybrid/idxs.npz', **split_idxs)"
   ]
  },
  {
   "cell_type": "code",
   "execution_count": null,
   "id": "martial-banana",
   "metadata": {},
   "outputs": [],
   "source": []
  }
 ],
 "metadata": {
  "kernelspec": {
   "display_name": "Python 3",
   "language": "python",
   "name": "python3"
  },
  "language_info": {
   "codemirror_mode": {
    "name": "ipython",
    "version": 3
   },
   "file_extension": ".py",
   "mimetype": "text/x-python",
   "name": "python",
   "nbconvert_exporter": "python",
   "pygments_lexer": "ipython3",
   "version": "3.8.5"
  }
 },
 "nbformat": 4,
 "nbformat_minor": 5
}
